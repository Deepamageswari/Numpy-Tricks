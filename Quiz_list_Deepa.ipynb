{
 "cells": [
  {
   "cell_type": "code",
   "execution_count": 3,
   "metadata": {},
   "outputs": [
    {
     "name": "stdout",
     "output_type": "stream",
     "text": [
      "[1, 2, 3, 4, 1, 2, 3, 4]\n"
     ]
    }
   ],
   "source": [
    "# 1. x=[1,2,3,4],Multiply this list with 2.\n",
    "x=[1,2,3,4]*2\n",
    "print(x)\n"
   ]
  },
  {
   "cell_type": "code",
   "execution_count": 7,
   "metadata": {
    "scrolled": true
   },
   "outputs": [
    {
     "name": "stdout",
     "output_type": "stream",
     "text": [
      "[1, 2, 3, 4, 1, 2, 3, 4, [5, 6, 7, 8, 4], [5, 6, 7, 8, 4], [5, 6, 7, 8, 4], [5, 6, 7, 8, 4]]\n"
     ]
    }
   ],
   "source": [
    "#2.  y=[5,6,7,8,4],add above x in y.\n",
    "y=[5,6,7,8,4]\n",
    "x.append(y)\n",
    "print(x)"
   ]
  },
  {
   "cell_type": "code",
   "execution_count": 9,
   "metadata": {},
   "outputs": [
    {
     "name": "stdout",
     "output_type": "stream",
     "text": [
      "[]\n"
     ]
    }
   ],
   "source": [
    "#3.  remove all elements from your list myself\n",
    "myself=[1,2,3,4,5,6]\n",
    "myself.clear()\n",
    "print(myself)"
   ]
  },
  {
   "cell_type": "code",
   "execution_count": 35,
   "metadata": {
    "scrolled": true
   },
   "outputs": [
    {
     "name": "stdout",
     "output_type": "stream",
     "text": [
      "12\n"
     ]
    }
   ],
   "source": [
    "#4. return the length of the list below: z=[1,2,3,4,5,,4,3,2,1,4,64,3]\n",
    "Z=[1,2,3,4,5,54,3,2,1,4,64,3]\n",
    "print(len(Z))"
   ]
  },
  {
   "cell_type": "code",
   "execution_count": 36,
   "metadata": {},
   "outputs": [
    {
     "name": "stdout",
     "output_type": "stream",
     "text": [
      "[64, 54, 5, 4, 4, 3, 3, 3, 2, 2, 1, 1]\n"
     ]
    }
   ],
   "source": [
    "#5. sort the Z list above into descending order\n",
    "Z.sort(reverse=True)\n",
    "print(Z)"
   ]
  },
  {
   "cell_type": "code",
   "execution_count": 37,
   "metadata": {},
   "outputs": [
    {
     "name": "stdout",
     "output_type": "stream",
     "text": [
      "[64, 54, 5, 4, 4, '123345', 3, 3, 3, 2, 2, 1, 1]\n"
     ]
    }
   ],
   "source": [
    "#6. insert a value as 12345 in the list below at a specific index 5.\n",
    "#[hint: use index()]\n",
    "#Z=[1,2,3,4,5,54,3,2,1,4,64,3]\n",
    "Z.insert(5,'123345')\n",
    "print(Z)\n"
   ]
  },
  {
   "cell_type": "code",
   "execution_count": 38,
   "metadata": {},
   "outputs": [
    {
     "name": "stdout",
     "output_type": "stream",
     "text": [
      "[123]\n"
     ]
    }
   ],
   "source": [
    "#7. Z=[[123],[2,5,54],[3,2,1],[4,64,3]]\n",
    "#get the first element out of the above list into a list only.\n",
    "Z=[[123],[2,5,54],[3,2,1],[4,64,3]]\n",
    "print(Z[0])\n",
    "\n",
    "\n",
    "    "
   ]
  },
  {
   "cell_type": "code",
   "execution_count": 48,
   "metadata": {},
   "outputs": [
    {
     "name": "stdout",
     "output_type": "stream",
     "text": [
      "(1, 2, 3, 4, 5, 54, 3, 2, 1, 4, 64, 3)\n",
      "[1, 2, 3, 4, 5, 54, 64]\n"
     ]
    }
   ],
   "source": [
    "#8. Z=[1,2,3,4,5,54,3,2,1,4,64,3] remove duplicates in the above list.\n",
    "Z=[1,2,3,4,5,54,3,2,1,4,64,3]\n",
    "print(tuple(Z))\n",
    "Z=list(dict.fromkeys(Z))\n",
    "print(Z)"
   ]
  },
  {
   "cell_type": "code",
   "execution_count": 53,
   "metadata": {},
   "outputs": [
    {
     "data": {
      "text/plain": [
       "{4}"
      ]
     },
     "execution_count": 53,
     "metadata": {},
     "output_type": "execute_result"
    }
   ],
   "source": [
    "#9. find the intersectin between two list below:\n",
    "#x=[1,2,3,4]\n",
    "#y=[5,6,7,8,4]\n",
    "x=[1,2,3,4]\n",
    "y=[5,6,7,8,4]\n",
    "set(x).intersection(y)\n"
   ]
  },
  {
   "cell_type": "code",
   "execution_count": 56,
   "metadata": {
    "scrolled": true
   },
   "outputs": [
    {
     "name": "stdout",
     "output_type": "stream",
     "text": [
      "[1, 4, 3, 4]\n"
     ]
    }
   ],
   "source": [
    "#10. return every 3rd element in the below list between values.\n",
    "#z=[1,2,3,4,5,54,3,2,1,4,64,3]\n",
    "z=[1,2,3,4,5,54,3,2,1,4,64,3]\n",
    "print(z[0:11:3])"
   ]
  },
  {
   "cell_type": "code",
   "execution_count": 69,
   "metadata": {},
   "outputs": [
    {
     "name": "stdout",
     "output_type": "stream",
     "text": [
      "1.24\n",
      "-1.243\n",
      "1628000\n"
     ]
    }
   ],
   "source": [
    "#11. use built-in round function to get fixed number of decimal places.\n",
    "#1.23743 ------ make it 1.24\n",
    "#-1.243225 ----- make it -1.243\n",
    "#1627731 ------ make it 1628000\n",
    "print(round(1.23743,2))\n",
    "print(round(-1.243225,3))\n",
    "print(round(1627731,-3))\n"
   ]
  },
  {
   "cell_type": "code",
   "execution_count": 86,
   "metadata": {},
   "outputs": [
    {
     "name": "stdout",
     "output_type": "stream",
     "text": [
      "1.23\n",
      "2.12346\n"
     ]
    }
   ],
   "source": [
    "#12. use built-in format function to round with formatting a value.\n",
    "#x=1.234567 ------ into 1.23\n",
    "#y=2.1234567 ----- into 2.12345\n",
    "x=1.234567 \n",
    "y=2.1234567 \n",
    "print(format(x, '.2f'))\n",
    "print(format(y, '.5f'))\n"
   ]
  },
  {
   "cell_type": "code",
   "execution_count": 95,
   "metadata": {},
   "outputs": [
    {
     "name": "stdout",
     "output_type": "stream",
     "text": [
      "0b10011010010\n",
      "0o2322\n",
      "0x4d2\n"
     ]
    }
   ],
   "source": [
    "# working with binary.octal and hexadecimal in python\n",
    "#to convert an intergerr into a binary,octal, or hexadecimal text string ,use the\n",
    "# bin(),oct(),or hex() frunctions,respectively.\n",
    "#13. convert below values into binary values,octal values,and hexadecimal values:\n",
    "#x=1234   y=15    z=100\n",
    "x=1234\n",
    "y=15\n",
    "z=100\n",
    "bin_x=bin(x)\n",
    "print(bin_x)\n",
    "oct_x=oct(x)\n",
    "print(oct_x)\n",
    "hex_x=hex(x)\n",
    "print(hex_x)"
   ]
  },
  {
   "cell_type": "code",
   "execution_count": 1,
   "metadata": {},
   "outputs": [
    {
     "name": "stdout",
     "output_type": "stream",
     "text": [
      "1234\n",
      "1234\n"
     ]
    }
   ],
   "source": [
    "#14.  convert below values into numerical values by using int() function by\n",
    "# assigning appropriate weight:\n",
    "# '4d2' with Base 16 (hexadecimal)\n",
    "# '10011010010' with Base 2(Binary)\n",
    "s='4d2'\n",
    "i=int(s,16)\n",
    "print(str(i))\n",
    "t='10011010010'\n",
    "i=int(t,2)\n",
    "print(str(i))\n",
    "\n"
   ]
  },
  {
   "cell_type": "code",
   "execution_count": 122,
   "metadata": {
    "scrolled": true
   },
   "outputs": [
    {
     "name": "stdout",
     "output_type": "stream",
     "text": [
      "1234\n",
      "1234\n"
     ]
    }
   ],
   "source": [
    "s='4d2'\n",
    "i=int(s,16)\n",
    "print(str(i))\n",
    "t='10011010010'\n",
    "i=int(t,2)\n",
    "print(str(i))"
   ]
  },
  {
   "cell_type": "code",
   "execution_count": 115,
   "metadata": {},
   "outputs": [
    {
     "data": {
      "text/plain": [
       "'1234'"
      ]
     },
     "execution_count": 115,
     "metadata": {},
     "output_type": "execute_result"
    }
   ],
   "source": [
    "t='10011010010'\n",
    "i=int(t,2)\n",
    "str(i)"
   ]
  },
  {
   "cell_type": "code",
   "execution_count": 113,
   "metadata": {
    "scrolled": false
   },
   "outputs": [
    {
     "data": {
      "text/plain": [
       "'4d2'"
      ]
     },
     "execution_count": 113,
     "metadata": {},
     "output_type": "execute_result"
    }
   ],
   "source": [
    "format(1234,'x')"
   ]
  },
  {
   "cell_type": "code",
   "execution_count": 120,
   "metadata": {
    "scrolled": true
   },
   "outputs": [
    {
     "data": {
      "text/plain": [
       "255"
      ]
     },
     "execution_count": 120,
     "metadata": {},
     "output_type": "execute_result"
    }
   ],
   "source": [
    "int(\"0xff\",16)"
   ]
  },
  {
   "cell_type": "code",
   "execution_count": null,
   "metadata": {},
   "outputs": [],
   "source": []
  },
  {
   "cell_type": "code",
   "execution_count": null,
   "metadata": {},
   "outputs": [],
   "source": []
  }
 ],
 "metadata": {
  "kernelspec": {
   "display_name": "Python 3",
   "language": "python",
   "name": "python3"
  },
  "language_info": {
   "codemirror_mode": {
    "name": "ipython",
    "version": 3
   },
   "file_extension": ".py",
   "mimetype": "text/x-python",
   "name": "python",
   "nbconvert_exporter": "python",
   "pygments_lexer": "ipython3",
   "version": "3.8.5"
  }
 },
 "nbformat": 4,
 "nbformat_minor": 4
}
